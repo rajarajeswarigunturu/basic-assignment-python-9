{
 "cells": [
  {
   "cell_type": "code",
   "execution_count": 9,
   "id": "a75c6f3c",
   "metadata": {},
   "outputs": [],
   "source": [
    "#1. To what does a relative path refer?\n",
    "\n",
    "#  A relative path is a path that is relative to the current directory. \n",
    "#  It is used when you want to navigate to a file or folder that is in the same directory\n",
    "#  as the current directory or in a subdirectory of the current directory. "
   ]
  },
  {
   "cell_type": "code",
   "execution_count": 10,
   "id": "f509fecd",
   "metadata": {},
   "outputs": [],
   "source": [
    "# 2. What does an absolute path start with your operating system?\n",
    "\n",
    "#  An absolute path is a complete path that locates a file or folder in a file system\n",
    "#  starting from the root. It always begins from the absolute start of your hard drive \n",
    "#  and describes every step you must take through the filesystem to end up at the target location1.\n",
    "#  For example, in Windows operating system, an absolute path starts with a drive letter followed by a \n",
    "#  colon and a backslash such as \n",
    "#  C:\\Users\\Public\\Documents2.\n"
   ]
  },
  {
   "cell_type": "code",
   "execution_count": 11,
   "id": "2743e70d",
   "metadata": {},
   "outputs": [],
   "source": [
    "#  3. What do the functions os.getcwd() and os.chdir() do?\n",
    "\n",
    "#  The method os.getcwd () in Python returns the current working directory of a process. \n",
    "#  Every process running under an operating system has an associated working directory, \n",
    "#  which is called as the current working directory of the process. The current working directory\n",
    "#  of a process can be changed by calling the Python method os.chdir ()."
   ]
  },
  {
   "cell_type": "code",
   "execution_count": 12,
   "id": "1a53035e",
   "metadata": {},
   "outputs": [],
   "source": [
    "#  4. What are the . and .. folders?\n",
    "\n",
    "#  In every directory there are two directories, namely . (current directory) and .. (parent directory).\n",
    "#  [Directory means folders]"
   ]
  },
  {
   "cell_type": "code",
   "execution_count": 13,
   "id": "924a7f69",
   "metadata": {},
   "outputs": [],
   "source": [
    "#  5. In C:\\bacon\\eggs\\spam.txt, which part is the dir name, and which part is the base name?\n",
    "\n",
    "#  In the path C:\\bacon\\eggs\\spam.txt, the directory name is C:\\bacon\\eggs and the base name is spam.txt."
   ]
  },
  {
   "cell_type": "code",
   "execution_count": 14,
   "id": "06361f86",
   "metadata": {},
   "outputs": [],
   "source": [
    "#  6. What are the three “mode” arguments that can be passed to the open() function?\n",
    "\n",
    "#  The three “mode” arguments that can be passed to the open() function are:\n",
    "\n",
    "#  Read mode: open(‘test.txt’, ‘r’)\n",
    "#  Write mode: open(‘test.txt’, ‘w’)\n",
    "#  Append mode: open(‘test.txt’, ‘a’)"
   ]
  },
  {
   "cell_type": "code",
   "execution_count": 15,
   "id": "8dccf72a",
   "metadata": {},
   "outputs": [],
   "source": [
    "#  7. What happens if an existing file is opened in write mode?\n",
    "\n",
    "#  if you open an existing file in write mode, it will erase all the data present in it and then write new data."
   ]
  },
  {
   "cell_type": "code",
   "execution_count": 16,
   "id": "8d86f16e",
   "metadata": {},
   "outputs": [],
   "source": [
    "#  8. How do you tell the difference between read() and readlines()?\n",
    "\n",
    "#  The readline method extracts a single line from a file and returns it as a string.\n",
    "#  The readlines method returns a list of strings containing the contents of the entire file,\n",
    "#  with each object representing one line of the file."
   ]
  },
  {
   "cell_type": "code",
   "execution_count": 17,
   "id": "ac353894",
   "metadata": {},
   "outputs": [],
   "source": [
    "#  9. What data structure does a shelf value resemble?\n",
    "\n",
    "# A shelf value resembles as a dictionary value."
   ]
  }
 ],
 "metadata": {
  "kernelspec": {
   "display_name": "Python 3 (ipykernel)",
   "language": "python",
   "name": "python3"
  },
  "language_info": {
   "codemirror_mode": {
    "name": "ipython",
    "version": 3
   },
   "file_extension": ".py",
   "mimetype": "text/x-python",
   "name": "python",
   "nbconvert_exporter": "python",
   "pygments_lexer": "ipython3",
   "version": "3.9.7"
  }
 },
 "nbformat": 4,
 "nbformat_minor": 5
}
